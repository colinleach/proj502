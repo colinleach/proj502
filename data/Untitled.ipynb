{
 "cells": [
  {
   "cell_type": "code",
   "execution_count": null,
   "id": "03f07975",
   "metadata": {},
   "outputs": [],
   "source": []
  },
  {
   "cell_type": "code",
   "execution_count": 6,
   "id": "757b2c86",
   "metadata": {},
   "outputs": [],
   "source": [
    "# from label_metadata.py\n",
    "gz2_pairs = {\n",
    "    'smooth-or-featured': ['_smooth', '_featured-or-disk'],\n",
    "    'disk-edge-on': ['_yes', '_no'],\n",
    "    'has-spiral-arms': ['_yes', '_no'],\n",
    "    'bar': ['_yes', '_no'],\n",
    "    'bulge-size': ['_dominant', '_obvious', '_just-noticeable', '_no'],\n",
    "    'something-odd': ['_yes', '_no'],\n",
    "    'how-rounded': ['_round', '_in-between', '_cigar'],\n",
    "    'bulge-shape': ['_round', '_boxy', '_no-bulge'],\n",
    "    'spiral-winding': ['_tight', '_medium', '_loose'],\n",
    "    'spiral-count': ['_1', '_2', '_3', '_4', '_more-than-4', '_cant-tell']\n",
    "}"
   ]
  },
  {
   "cell_type": "code",
   "execution_count": 4,
   "id": "a97d2f20",
   "metadata": {},
   "outputs": [],
   "source": [
    "headers = []\n",
    "for k in gz2_pairs:\n",
    "    for v in gz2_pairs[k]:\n",
    "        headers.append(k + v)"
   ]
  },
  {
   "cell_type": "code",
   "execution_count": 5,
   "id": "48138706",
   "metadata": {},
   "outputs": [
    {
     "data": {
      "text/plain": [
       "['smooth-or-featured_smooth',\n",
       " 'smooth-or-featured_featured-or-disk',\n",
       " 'disk-edge-on_yes',\n",
       " 'disk-edge-on_no',\n",
       " 'has-spiral-arms_yes',\n",
       " 'has-spiral-arms_no',\n",
       " 'bar_yes',\n",
       " 'bar_no',\n",
       " 'bulge-size_dominant',\n",
       " 'bulge-size_obvious',\n",
       " 'bulge-size_just-noticeable',\n",
       " 'bulge-size_no',\n",
       " 'something-odd_yes',\n",
       " 'something-odd_no',\n",
       " 'how-rounded_round',\n",
       " 'how-rounded_in-between',\n",
       " 'how-rounded_cigar',\n",
       " 'bulge-shape_round',\n",
       " 'bulge-shape_boxy',\n",
       " 'bulge-shape_no-bulge',\n",
       " 'spiral-winding_tight',\n",
       " 'spiral-winding_medium',\n",
       " 'spiral-winding_loose',\n",
       " 'spiral-count_1',\n",
       " 'spiral-count_2',\n",
       " 'spiral-count_3',\n",
       " 'spiral-count_4',\n",
       " 'spiral-count_more-than-4',\n",
       " 'spiral-count_cant-tell']"
      ]
     },
     "execution_count": 5,
     "metadata": {},
     "output_type": "execute_result"
    }
   ],
   "source": [
    "headers"
   ]
  },
  {
   "cell_type": "code",
   "execution_count": null,
   "id": "5a87f4ee",
   "metadata": {},
   "outputs": [],
   "source": []
  }
 ],
 "metadata": {
  "kernelspec": {
   "display_name": "Python 3 (ipykernel)",
   "language": "python",
   "name": "python3"
  },
  "language_info": {
   "codemirror_mode": {
    "name": "ipython",
    "version": 3
   },
   "file_extension": ".py",
   "mimetype": "text/x-python",
   "name": "python",
   "nbconvert_exporter": "python",
   "pygments_lexer": "ipython3",
   "version": "3.9.10"
  }
 },
 "nbformat": 4,
 "nbformat_minor": 5
}
