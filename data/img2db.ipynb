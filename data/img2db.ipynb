{
 "cells": [
  {
   "cell_type": "code",
   "execution_count": 53,
   "id": "baa94a40",
   "metadata": {},
   "outputs": [],
   "source": [
    "from pathlib import Path\n",
    "import logging\n",
    "import pandas as pd\n",
    "\n",
    "from db import DB"
   ]
  },
  {
   "cell_type": "code",
   "execution_count": 2,
   "id": "37bdc5d4",
   "metadata": {},
   "outputs": [],
   "source": [
    "logging.basicConfig(filename='gzoo.log', format='%(asctime)s %(message)s', level=logging.DEBUG)"
   ]
  },
  {
   "cell_type": "code",
   "execution_count": 32,
   "id": "8f01844f",
   "metadata": {},
   "outputs": [],
   "source": [
    "pg = DB()\n",
    "params = pg.read_params()"
   ]
  },
  {
   "cell_type": "code",
   "execution_count": 33,
   "id": "44749522",
   "metadata": {},
   "outputs": [
    {
     "data": {
      "text/plain": [
       "{'dbname': 'gzoo',\n",
       " 'host': '192.168.1.151',\n",
       " 'username': 'python',\n",
       " 'password': 'python',\n",
       " 'dataroot': '/home/colin/data/munch1tb/zoobot_data',\n",
       " 'mapping': 'gz2_catalog/zoo2MainSpecz_fields.txt',\n",
       " 'datafile': 'gz2_catalog/zoo2MainSpecz.csv',\n",
       " 'sdssdr7': 'gzimg/sdssdr7',\n",
       " 'sdsspng': 'gzimg/sdsspng',\n",
       " 'decalsdr5': 'gz_decals_dr5_png'}"
      ]
     },
     "execution_count": 33,
     "metadata": {},
     "output_type": "execute_result"
    }
   ],
   "source": [
    "params"
   ]
  },
  {
   "cell_type": "code",
   "execution_count": 35,
   "id": "f137000a",
   "metadata": {},
   "outputs": [],
   "source": [
    "dataroot = Path(params['dataroot'])\n",
    "jpg_path = dataroot / params['sdssdr7']\n",
    "png_path = dataroot / params['sdsspng']\n",
    "decals_path = dataroot / params['decalsdr5']"
   ]
  },
  {
   "cell_type": "code",
   "execution_count": 40,
   "id": "c60b0652",
   "metadata": {},
   "outputs": [],
   "source": [
    "def insert_rec(id_str, dr7id, path, size, survey, filetype):\n",
    "    if dr7id is None:\n",
    "        dr7id = 'NULL'\n",
    "    sql = f\"\"\"\n",
    "        insert into img\n",
    "        (id_str, dr7id, path, size, survey, filetype)\n",
    "        values ('{id_str}', {dr7id}, '{path}', {size}, '{survey}', '{filetype}')\n",
    "        on conflict do nothing\n",
    "        \"\"\"\n",
    "    pg.run_admin(sql)"
   ]
  },
  {
   "cell_type": "code",
   "execution_count": 29,
   "id": "4dcd93ab",
   "metadata": {},
   "outputs": [],
   "source": [
    "def gz2(path, stem):\n",
    "    count = 0\n",
    "    for f in path.rglob(f'*.{stem}'):\n",
    "        name = f.stem\n",
    "        insert_rec(name, int(name), f, 424, 'SDSSDR7', stem)\n",
    "#         print(f)\n",
    "        count += 1\n",
    "        if count > 5: break\n",
    "        if count % 100000 == 0:\n",
    "            logging.info(f'gzoo.img, {count} records inserted)')\n",
    "\n",
    "\n",
    "    logging.info(f'gzoo.img, finished, {count} records inserted)')"
   ]
  },
  {
   "cell_type": "code",
   "execution_count": 30,
   "id": "44e548a2",
   "metadata": {},
   "outputs": [],
   "source": [
    "gz2(jpg_path, 'jpg')"
   ]
  },
  {
   "cell_type": "code",
   "execution_count": 44,
   "id": "b542f7e4",
   "metadata": {},
   "outputs": [],
   "source": [
    "def decals(path, stem):\n",
    "    count = 0\n",
    "    for f in path.rglob(f'*.{stem}'):\n",
    "        name = f.stem\n",
    "        insert_rec(name, None, f, 424, 'DECaLS_5', stem)\n",
    "#         print(f)\n",
    "        count += 1\n",
    "#         if count > 5: break\n",
    "        if count % 100000 == 0:\n",
    "            logging.info(f'gzoo.img, {count} records inserted)')\n",
    "\n",
    "\n",
    "    logging.info(f'gzoo.img, finished, {count} records inserted)')"
   ]
  },
  {
   "cell_type": "code",
   "execution_count": 45,
   "id": "02c7b23f",
   "metadata": {},
   "outputs": [],
   "source": [
    "decals(decals_path, 'png')"
   ]
  },
  {
   "cell_type": "code",
   "execution_count": 57,
   "id": "b7b72e02",
   "metadata": {},
   "outputs": [],
   "source": [
    "sql = \"\"\"\n",
    "SELECT  \n",
    "    id_str, \n",
    "    path as file_loc, \n",
    "    t01_smooth_or_features_a01_smooth_count,\n",
    "    t01_smooth_or_features_a02_features_or_disk_count\n",
    "FROM \n",
    "    gz2data g, img\n",
    "WHERE \n",
    "    filetype = 'png' \n",
    "AND \n",
    "    g.dr7objid = img.dr7id\n",
    "\"\"\"\n",
    "\n",
    "data = pg.run_select(sql)"
   ]
  },
  {
   "cell_type": "code",
   "execution_count": 58,
   "id": "42f65743",
   "metadata": {},
   "outputs": [],
   "source": [
    "headers = ['id_str',\n",
    "           'file_loc',\n",
    "           'smooth-or-featured_smooth',\n",
    "           'smooth-or-featured_featured-or-disk']"
   ]
  },
  {
   "cell_type": "code",
   "execution_count": 69,
   "id": "356b82e0",
   "metadata": {},
   "outputs": [],
   "source": [
    "df = pd.DataFrame(data, columns=headers)\n",
    "df['id_str'] = df['id_str'].str.rstrip()\n",
    "\n",
    "df.to_csv('gz2_partial_pairs.csv', index=False)"
   ]
  },
  {
   "cell_type": "code",
   "execution_count": null,
   "id": "aeccedb2",
   "metadata": {},
   "outputs": [],
   "source": []
  }
 ],
 "metadata": {
  "kernelspec": {
   "display_name": "Python 3 (ipykernel)",
   "language": "python",
   "name": "python3"
  },
  "language_info": {
   "codemirror_mode": {
    "name": "ipython",
    "version": 3
   },
   "file_extension": ".py",
   "mimetype": "text/x-python",
   "name": "python",
   "nbconvert_exporter": "python",
   "pygments_lexer": "ipython3",
   "version": "3.9.9"
  }
 },
 "nbformat": 4,
 "nbformat_minor": 5
}
