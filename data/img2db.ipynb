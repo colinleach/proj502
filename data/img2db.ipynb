{
 "cells": [
  {
   "cell_type": "code",
   "execution_count": 1,
   "id": "b0411381",
   "metadata": {},
   "outputs": [],
   "source": [
    "from pathlib import Path\n",
    "import logging\n",
    "\n",
    "from db import DB"
   ]
  },
  {
   "cell_type": "code",
   "execution_count": 2,
   "id": "47e6a191",
   "metadata": {},
   "outputs": [],
   "source": [
    "logging.basicConfig(filename='gzoo.log', format='%(asctime)s %(message)s', level=logging.DEBUG)"
   ]
  },
  {
   "cell_type": "code",
   "execution_count": 32,
   "id": "f6b05133",
   "metadata": {},
   "outputs": [],
   "source": [
    "pg = DB()\n",
    "params = pg.read_params()"
   ]
  },
  {
   "cell_type": "code",
   "execution_count": 33,
   "id": "fb660ce6",
   "metadata": {},
   "outputs": [
    {
     "data": {
      "text/plain": [
       "{'dbname': 'gzoo',\n",
       " 'host': '192.168.1.151',\n",
       " 'username': 'python',\n",
       " 'password': 'python',\n",
       " 'dataroot': '/home/colin/data/munch1tb/zoobot_data',\n",
       " 'mapping': 'gz2_catalog/zoo2MainSpecz_fields.txt',\n",
       " 'datafile': 'gz2_catalog/zoo2MainSpecz.csv',\n",
       " 'sdssdr7': 'gzimg/sdssdr7',\n",
       " 'sdsspng': 'gzimg/sdsspng',\n",
       " 'decalsdr5': 'gz_decals_dr5_png'}"
      ]
     },
     "execution_count": 33,
     "metadata": {},
     "output_type": "execute_result"
    }
   ],
   "source": [
    "params"
   ]
  },
  {
   "cell_type": "code",
   "execution_count": 35,
   "id": "26b6caa7",
   "metadata": {},
   "outputs": [],
   "source": [
    "dataroot = Path(params['dataroot'])\n",
    "jpg_path = dataroot / params['sdssdr7']\n",
    "png_path = dataroot / params['sdsspng']\n",
    "decals_path = dataroot / params['decalsdr5']"
   ]
  },
  {
   "cell_type": "code",
   "execution_count": 40,
   "id": "fc1ae742",
   "metadata": {},
   "outputs": [],
   "source": [
    "def insert_rec(id_str, dr7id, path, size, survey, filetype):\n",
    "    if dr7id is None:\n",
    "        dr7id = 'NULL'\n",
    "    sql = f\"\"\"\n",
    "        insert into img\n",
    "        (id_str, dr7id, path, size, survey, filetype)\n",
    "        values ('{id_str}', {dr7id}, '{path}', {size}, '{survey}', '{filetype}')\n",
    "        on conflict do nothing\n",
    "        \"\"\"\n",
    "    pg.run_admin(sql)"
   ]
  },
  {
   "cell_type": "code",
   "execution_count": 29,
   "id": "5b8286dd",
   "metadata": {},
   "outputs": [],
   "source": [
    "def gz2(path, stem):\n",
    "    count = 0\n",
    "    for f in path.rglob(f'*.{stem}'):\n",
    "        name = f.stem\n",
    "        insert_rec(name, int(name), f, 424, 'SDSSDR7', stem)\n",
    "#         print(f)\n",
    "        count += 1\n",
    "        if count > 5: break\n",
    "        if count % 100000 == 0:\n",
    "            logging.info(f'gzoo.img, {count} records inserted)')\n",
    "\n",
    "\n",
    "    logging.info(f'gzoo.img, finished, {count} records inserted)')"
   ]
  },
  {
   "cell_type": "code",
   "execution_count": 30,
   "id": "3b417fe5",
   "metadata": {},
   "outputs": [],
   "source": [
    "gz2(jpg_path, 'jpg')"
   ]
  },
  {
   "cell_type": "code",
   "execution_count": 44,
   "id": "1ff73f4b",
   "metadata": {},
   "outputs": [],
   "source": [
    "def decals(path, stem):\n",
    "    count = 0\n",
    "    for f in path.rglob(f'*.{stem}'):\n",
    "        name = f.stem\n",
    "        insert_rec(name, None, f, 424, 'DECaLS_5', stem)\n",
    "#         print(f)\n",
    "        count += 1\n",
    "#         if count > 5: break\n",
    "        if count % 100000 == 0:\n",
    "            logging.info(f'gzoo.img, {count} records inserted)')\n",
    "\n",
    "\n",
    "    logging.info(f'gzoo.img, finished, {count} records inserted)')"
   ]
  },
  {
   "cell_type": "code",
   "execution_count": 45,
   "id": "42ecd687",
   "metadata": {},
   "outputs": [],
   "source": [
    "decals(decals_path, 'png')"
   ]
  },
  {
   "cell_type": "code",
   "execution_count": null,
   "id": "d7ca85df",
   "metadata": {},
   "outputs": [],
   "source": []
  }
 ],
 "metadata": {
  "kernelspec": {
   "display_name": "Python 3 (ipykernel)",
   "language": "python",
   "name": "python3"
  },
  "language_info": {
   "codemirror_mode": {
    "name": "ipython",
    "version": 3
   },
   "file_extension": ".py",
   "mimetype": "text/x-python",
   "name": "python",
   "nbconvert_exporter": "python",
   "pygments_lexer": "ipython3",
   "version": "3.9.9"
  }
 },
 "nbformat": 4,
 "nbformat_minor": 5
}
