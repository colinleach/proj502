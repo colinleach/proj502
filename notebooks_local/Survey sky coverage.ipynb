{
 "cells": [
  {
   "cell_type": "markdown",
   "id": "e847d286",
   "metadata": {},
   "source": [
    "# Survey coverage and images"
   ]
  },
  {
   "cell_type": "markdown",
   "id": "23c4b2b8",
   "metadata": {},
   "source": [
    "## Setup"
   ]
  },
  {
   "cell_type": "code",
   "execution_count": 7,
   "id": "14f4296f",
   "metadata": {},
   "outputs": [],
   "source": [
    "import numpy as np\n",
    "import pandas as pd\n",
    "import matplotlib.pyplot as plt\n",
    "import matplotlib.image as mpimg\n",
    "from matplotlib.colors import LogNorm\n",
    "from pathlib import Path\n",
    "from IPython.display import Image, display"
   ]
  },
  {
   "cell_type": "markdown",
   "id": "c9dde9a8",
   "metadata": {},
   "source": [
    "Unfortunately, importing local modules only seems to work from the top directory, not the notebook subdirectory:"
   ]
  },
  {
   "cell_type": "code",
   "execution_count": 8,
   "id": "9f1b33c8",
   "metadata": {},
   "outputs": [],
   "source": [
    "import os\n",
    "os.chdir('/home/colin/code/galaxycnn/proj502')\n",
    "import projcode\n",
    "from projcode.data.db import DB\n",
    "from projcode.data.utils import read_params\n",
    "\n",
    "params = read_params()\n",
    "figures_dir = Path(params['coderoot']) / 'project_report/figures'"
   ]
  },
  {
   "cell_type": "markdown",
   "id": "86612c4a",
   "metadata": {},
   "source": [
    "Utility class for postgres:"
   ]
  },
  {
   "cell_type": "code",
   "execution_count": 9,
   "id": "01b7e0c3",
   "metadata": {},
   "outputs": [],
   "source": [
    "db = DB(params)"
   ]
  },
  {
   "cell_type": "markdown",
   "id": "5579914e",
   "metadata": {},
   "source": [
    "## Get the positions for the catalogs\n",
    "\n",
    "First GZ2:"
   ]
  },
  {
   "cell_type": "code",
   "execution_count": 29,
   "id": "be61a3d7",
   "metadata": {},
   "outputs": [],
   "source": [
    "sql = \"\"\"\n",
    "    SELECT dr7objid, ra, dec\n",
    "    FROM gz2data\n",
    "    WHERE sample = 'original'\n",
    "    ORDER BY dr7objid \n",
    "    \"\"\"\n",
    "locs = db.run_select(sql)\n",
    "\n",
    "gz2 = pd.DataFrame(locs)\n",
    "gz2.columns = ['dr7id', 'ra', 'dec']"
   ]
  },
  {
   "cell_type": "markdown",
   "id": "4f689116",
   "metadata": {},
   "source": [
    "Here, RA is decimal degrees in the range [0, 360]. Mollweide projection needs [-2$\\pi$, +2$\\pi$] radians."
   ]
  },
  {
   "cell_type": "code",
   "execution_count": 30,
   "id": "beb415d2",
   "metadata": {
    "scrolled": true
   },
   "outputs": [
    {
     "data": {
      "text/plain": [
       "(110.56759, 266.12555)"
      ]
     },
     "execution_count": 30,
     "metadata": {},
     "output_type": "execute_result"
    }
   ],
   "source": [
    "gz2['ra'].min(), gz2['ra'].max()"
   ]
  },
  {
   "cell_type": "code",
   "execution_count": 31,
   "id": "52b7695d",
   "metadata": {},
   "outputs": [
    {
     "data": {
      "text/html": [
       "<div>\n",
       "<style scoped>\n",
       "    .dataframe tbody tr th:only-of-type {\n",
       "        vertical-align: middle;\n",
       "    }\n",
       "\n",
       "    .dataframe tbody tr th {\n",
       "        vertical-align: top;\n",
       "    }\n",
       "\n",
       "    .dataframe thead th {\n",
       "        text-align: right;\n",
       "    }\n",
       "</style>\n",
       "<table border=\"1\" class=\"dataframe\">\n",
       "  <thead>\n",
       "    <tr style=\"text-align: right;\">\n",
       "      <th></th>\n",
       "      <th>dr7id</th>\n",
       "      <th>ra</th>\n",
       "      <th>dec</th>\n",
       "      <th>long_rad</th>\n",
       "      <th>dec_rad</th>\n",
       "    </tr>\n",
       "  </thead>\n",
       "  <tbody>\n",
       "    <tr>\n",
       "      <th>0</th>\n",
       "      <td>587722981741363294</td>\n",
       "      <td>182.92526</td>\n",
       "      <td>-1.092357</td>\n",
       "      <td>-3.090537</td>\n",
       "      <td>-0.019065</td>\n",
       "    </tr>\n",
       "    <tr>\n",
       "      <th>1</th>\n",
       "      <td>587722981741363323</td>\n",
       "      <td>182.97011</td>\n",
       "      <td>-1.219537</td>\n",
       "      <td>-3.089754</td>\n",
       "      <td>-0.021285</td>\n",
       "    </tr>\n",
       "    <tr>\n",
       "      <th>2</th>\n",
       "      <td>587722981741559888</td>\n",
       "      <td>183.43810</td>\n",
       "      <td>-1.238414</td>\n",
       "      <td>-3.081586</td>\n",
       "      <td>-0.021614</td>\n",
       "    </tr>\n",
       "  </tbody>\n",
       "</table>\n",
       "</div>"
      ],
      "text/plain": [
       "                dr7id         ra       dec  long_rad   dec_rad\n",
       "0  587722981741363294  182.92526 -1.092357 -3.090537 -0.019065\n",
       "1  587722981741363323  182.97011 -1.219537 -3.089754 -0.021285\n",
       "2  587722981741559888  183.43810 -1.238414 -3.081586 -0.021614"
      ]
     },
     "execution_count": 31,
     "metadata": {},
     "output_type": "execute_result"
    }
   ],
   "source": [
    "fix_lat = lambda n: ((n+180) % 360) - 180\n",
    "gz2['long_rad'] = fix_lat(gz2['ra']) * np.pi / 180\n",
    "gz2['dec_rad'] = gz2['dec'] * np.pi / 180\n",
    "gz2.head(3)"
   ]
  },
  {
   "cell_type": "markdown",
   "id": "2b1da8bd",
   "metadata": {},
   "source": [
    "Repeat for DECaLS:"
   ]
  },
  {
   "cell_type": "code",
   "execution_count": 32,
   "id": "54cd98ac",
   "metadata": {},
   "outputs": [],
   "source": [
    "sql = \"\"\"\n",
    "    SELECT iauname, ra, dec\n",
    "    FROM decalsdata\n",
    "    ORDER BY iauname \n",
    "    \"\"\"\n",
    "locs = db.run_select(sql)\n",
    "\n",
    "decals = pd.DataFrame(locs)\n",
    "decals.columns = ['iauname', 'ra', 'dec']"
   ]
  },
  {
   "cell_type": "code",
   "execution_count": 33,
   "id": "c8296377",
   "metadata": {},
   "outputs": [
    {
     "data": {
      "text/plain": [
       "(0.004366900119036308, 359.9979808580347)"
      ]
     },
     "execution_count": 33,
     "metadata": {},
     "output_type": "execute_result"
    }
   ],
   "source": [
    "decals['ra'].min(), decals['ra'].max()"
   ]
  },
  {
   "cell_type": "code",
   "execution_count": 34,
   "id": "e8bc599a",
   "metadata": {},
   "outputs": [
    {
     "data": {
      "text/html": [
       "<div>\n",
       "<style scoped>\n",
       "    .dataframe tbody tr th:only-of-type {\n",
       "        vertical-align: middle;\n",
       "    }\n",
       "\n",
       "    .dataframe tbody tr th {\n",
       "        vertical-align: top;\n",
       "    }\n",
       "\n",
       "    .dataframe thead th {\n",
       "        text-align: right;\n",
       "    }\n",
       "</style>\n",
       "<table border=\"1\" class=\"dataframe\">\n",
       "  <thead>\n",
       "    <tr style=\"text-align: right;\">\n",
       "      <th></th>\n",
       "      <th>iauname</th>\n",
       "      <th>ra</th>\n",
       "      <th>dec</th>\n",
       "      <th>long_rad</th>\n",
       "      <th>dec_rad</th>\n",
       "    </tr>\n",
       "  </thead>\n",
       "  <tbody>\n",
       "    <tr>\n",
       "      <th>0</th>\n",
       "      <td>J000000.80+004200.0</td>\n",
       "      <td>359.995016</td>\n",
       "      <td>0.701753</td>\n",
       "      <td>-0.000087</td>\n",
       "      <td>0.012248</td>\n",
       "    </tr>\n",
       "    <tr>\n",
       "      <th>1</th>\n",
       "      <td>J000001.03+003228.7</td>\n",
       "      <td>0.004367</td>\n",
       "      <td>0.541321</td>\n",
       "      <td>0.000076</td>\n",
       "      <td>0.009448</td>\n",
       "    </tr>\n",
       "    <tr>\n",
       "      <th>2</th>\n",
       "      <td>J000001.55-000533.3</td>\n",
       "      <td>0.006467</td>\n",
       "      <td>-0.092602</td>\n",
       "      <td>0.000113</td>\n",
       "      <td>-0.001616</td>\n",
       "    </tr>\n",
       "  </tbody>\n",
       "</table>\n",
       "</div>"
      ],
      "text/plain": [
       "               iauname          ra       dec  long_rad   dec_rad\n",
       "0  J000000.80+004200.0  359.995016  0.701753 -0.000087  0.012248\n",
       "1  J000001.03+003228.7    0.004367  0.541321  0.000076  0.009448\n",
       "2  J000001.55-000533.3    0.006467 -0.092602  0.000113 -0.001616"
      ]
     },
     "execution_count": 34,
     "metadata": {},
     "output_type": "execute_result"
    }
   ],
   "source": [
    "decals['long_rad'] = fix_lat(decals['ra']) * np.pi / 180\n",
    "decals['dec_rad'] = decals['dec'] * np.pi / 180\n",
    "decals.head(3)"
   ]
  },
  {
   "cell_type": "code",
   "execution_count": 39,
   "id": "cba143c1",
   "metadata": {
    "scrolled": false
   },
   "outputs": [
    {
     "data": {
      "image/png": "[encoded data removed]",
      "text/plain": [
       "<Figure size 1440x720 with 2 Axes>"
      ]
     },
     "metadata": {
      "needs_background": "light"
     },
     "output_type": "display_data"
    }
   ],
   "source": [
    "plt.rcParams.update({'font.size': 14})\n",
    "fig = plt.figure(figsize=(20,10))\n",
    "ax1 = plt.subplot(121, projection=\"mollweide\")\n",
    "ax1.scatter(gz2['long_rad'], gz2['dec_rad'], s=1, c='r')\n",
    "ax1.grid(True)\n",
    "ax1.set_title('GZ2', size=20, color='r')\n",
    "ax2 = plt.subplot(122, projection=\"mollweide\")\n",
    "ax2.scatter(decals['long_rad'], decals['dec_rad'], s=1, c='b')\n",
    "ax2.grid(True);\n",
    "ax2.set_title('DECaLS', size=20, color='b')\n",
    "# plt.savefig(figures_dir / 'coverage.pdf')\n",
    "# plt.savefig(figures_dir / 'coverage.png')"
   ]
  },
  {
   "cell_type": "markdown",
   "id": "3ac72265",
   "metadata": {},
   "source": [
    "## Look for matches"
   ]
  },
  {
   "cell_type": "markdown",
   "id": "4253d7fe",
   "metadata": {},
   "source": [
    "Add a new string column to each table."
   ]
  },
  {
   "cell_type": "code",
   "execution_count": 17,
   "id": "fe11e068",
   "metadata": {
    "scrolled": true
   },
   "outputs": [],
   "source": [
    "sql = \"\"\"ALTER TABLE IF EXISTS public.decalsdata\n",
    "    ADD COLUMN IF NOT EXISTS pos_str character(20)\"\"\"\n",
    "db.run_admin(sql)"
   ]
  },
  {
   "cell_type": "code",
   "execution_count": 18,
   "id": "eea3504f",
   "metadata": {},
   "outputs": [],
   "source": [
    "sql = \"\"\"ALTER TABLE IF EXISTS public.gz2matchesdata\n",
    "    ADD COLUMN IF NOT EXISTS pos_str character(20)\"\"\"\n",
    "db.run_admin(sql)"
   ]
  },
  {
   "cell_type": "markdown",
   "id": "c3e69cf2",
   "metadata": {},
   "source": [
    "Convert floating point values to fixed-format string and insert.\n",
    "\n",
    "This is slow but easy. TODO - find an all-SQL way to do it in one go."
   ]
  },
  {
   "cell_type": "code",
   "execution_count": 19,
   "id": "0c8b63d4",
   "metadata": {},
   "outputs": [],
   "source": [
    "sql = \"\"\"SELECT dr7objid, ra, dec FROM gz2data\"\"\"\n",
    "gz2 = db.run_select(sql)\n",
    "\n",
    "for (dr7id, ra, dec) in gz2:\n",
    "    sql = f\"UPDATE gz2data SET pos_str='{ra:.3f}_{dec:.3f}' WHERE dr7objid={dr7id}\"\n",
    "    db.run_admin(sql)"
   ]
  },
  {
   "cell_type": "code",
   "execution_count": 20,
   "id": "b992bf4f",
   "metadata": {},
   "outputs": [],
   "source": [
    "sql = \"\"\"SELECT iauname, ra, dec FROM decalsdata\"\"\"\n",
    "decals = db.run_select(sql)\n",
    "\n",
    "for (iauname, ra, dec) in decals:\n",
    "    sql = f\"UPDATE decalsdata SET pos_str='{ra:.3f}_{dec:.3f}' WHERE iauname='{iauname}'\"\n",
    "    db.run_admin(sql)"
   ]
  },
  {
   "cell_type": "markdown",
   "id": "247c864f",
   "metadata": {},
   "source": [
    "A query `matches`was defined like this:\n",
    "\n",
    "``` \n",
    "SELECT \n",
    "    gz.dr7objid,\n",
    "    d.iauname,\n",
    "    d.ra,\n",
    "    d.\"dec\",\n",
    "    d.pos_str\n",
    "FROM decalsdata d,\n",
    "     gz2data gz\n",
    "WHERE d.pos_str = gz.pos_str;\n",
    "```\n",
    "\n",
    "Another, `path2matches`, has this definition:\n",
    "\n",
    "```\n",
    " SELECT m.dr7objid,\n",
    "    m.iauname,\n",
    "    i1.path AS gz2_path,\n",
    "    i2.path AS decals_path\n",
    "   FROM matches m,\n",
    "    img i1,\n",
    "    img i2\n",
    "  WHERE m.dr7objid::text = i1.id_str AND m.iauname = i2.id_str;\n",
    "  ```\n",
    "  \n",
    "The latter is slow and inefficient (joining on a computed field is nobody's idea of best practice), but good enough for one-off use."
   ]
  },
  {
   "cell_type": "code",
   "execution_count": 21,
   "id": "6c698320",
   "metadata": {
    "scrolled": true
   },
   "outputs": [],
   "source": [
    "sql = \"\"\"\n",
    "SELECT dr7objid, iauname, gz2_path, decals_path\n",
    "FROM path2matches\n",
    "LIMIT 5000\n",
    "\"\"\"\n",
    "matches = db.run_select(sql)"
   ]
  },
  {
   "cell_type": "markdown",
   "id": "78c33f70",
   "metadata": {},
   "source": [
    "Define a plotting routine to call within a loop:"
   ]
  },
  {
   "cell_type": "code",
   "execution_count": 22,
   "id": "b7c1aa97",
   "metadata": {},
   "outputs": [],
   "source": [
    "def plot_pair(img1, im2, id1, id2):\n",
    "    fig = plt.figure(figsize=(16,18))\n",
    "    plt.ioff()\n",
    "\n",
    "    ax1 = fig.add_subplot(1, 2, 1)\n",
    "    imgplot = plt.imshow(img1)\n",
    "    ax1.get_xaxis().set_visible(False)\n",
    "    ax1.get_yaxis().set_visible(False)\n",
    "    ax1.set_title(id1)\n",
    "\n",
    "    ax2 = fig.add_subplot(1, 2, 2)\n",
    "    imgplot = plt.imshow(img2)\n",
    "    imgplot.set_clim(0.0, 0.7)\n",
    "    ax2.get_xaxis().set_visible(False)\n",
    "    ax2.get_yaxis().set_visible(False)\n",
    "    ax2.set_title(id2)\n",
    "    plt.savefig(figures_dir / f'{id2}.pdf', bbox_inches='tight')\n",
    "    plt.close(fig)"
   ]
  },
  {
   "cell_type": "markdown",
   "id": "6b98a610",
   "metadata": {},
   "source": [
    "Generate some image pairs:"
   ]
  },
  {
   "cell_type": "code",
   "execution_count": 23,
   "id": "42f3fe0d",
   "metadata": {
    "scrolled": false
   },
   "outputs": [],
   "source": [
    "for (dr7objid, iauname, gz2_path, decals_path) in matches[:3000:1000]:\n",
    "    img1 = mpimg.imread(gz2_path)\n",
    "    img2 = mpimg.imread(decals_path)\n",
    "    plot_pair(img1, img2, dr7objid, iauname)"
   ]
  },
  {
   "cell_type": "code",
   "execution_count": 24,
   "id": "6725ca4a",
   "metadata": {},
   "outputs": [
    {
     "name": "stdout",
     "output_type": "stream",
     "text": [
      "/home/colin/data/munch1tb/zoobot_data/gzimg/sdssdr7/588848900980736134.jpg /home/colin/data/munch1tb/zoobot_data/gz_decals_dr5_png/J110/J110821.70+004921.7.png\n",
      "/home/colin/data/munch1tb/zoobot_data/gzimg/sdssdr7/588848900980342922.jpg /home/colin/data/munch1tb/zoobot_data/gz_decals_dr5_png/J110/J110426.68+003939.5.png\n",
      "/home/colin/data/munch1tb/zoobot_data/gzimg/sdssdr7/587738409795846324.jpg /home/colin/data/munch1tb/zoobot_data/gz_decals_dr5_png/J110/J110933.02+134944.8.png\n"
     ]
    }
   ],
   "source": [
    "for (dr7objid, iauname, gz2_path, decals_path) in matches[:3000:1000]:\n",
    "    print(gz2_path, decals_path)"
   ]
  },
  {
   "cell_type": "markdown",
   "id": "0e746070",
   "metadata": {},
   "source": [
    "## Add zoomed SDSS images\n",
    "\n",
    "After repeating cutout retrieval at 0.1 arcsec/pixel, add these to the plot:"
   ]
  },
  {
   "cell_type": "code",
   "execution_count": 25,
   "id": "44f91402",
   "metadata": {},
   "outputs": [],
   "source": [
    "def plot_trio(img1a, img1b, im2, id1, id2):\n",
    "    fig = plt.figure(figsize=(16,18))\n",
    "    plt.ioff()\n",
    "\n",
    "    ax1a = fig.add_subplot(1, 3, 1)\n",
    "    imgplot = plt.imshow(img1a)\n",
    "    ax1a.get_xaxis().set_visible(False)\n",
    "    ax1a.get_yaxis().set_visible(False)\n",
    "    ax1a.set_title(id1)\n",
    "\n",
    "    ax1b = fig.add_subplot(1, 3, 2)\n",
    "    imgplot = plt.imshow(img1b)\n",
    "    ax1b.get_xaxis().set_visible(False)\n",
    "    ax1b.get_yaxis().set_visible(False)\n",
    "    ax1b.set_title(id1)\n",
    "\n",
    "    ax2 = fig.add_subplot(1, 3, 3)\n",
    "    imgplot = plt.imshow(img2)\n",
    "    imgplot.set_clim(0.0, 0.7)\n",
    "    ax2.get_xaxis().set_visible(False)\n",
    "    ax2.get_yaxis().set_visible(False)\n",
    "    ax2.set_title(id2)\n",
    "    plt.savefig(figures_dir / f'{id2}_3.pdf', bbox_inches='tight')\n",
    "    plt.close(fig)"
   ]
  },
  {
   "cell_type": "code",
   "execution_count": 26,
   "id": "a9896ecf",
   "metadata": {},
   "outputs": [],
   "source": [
    "for (dr7objid, iauname, gz2_path, decals_path) in matches[:20]:\n",
    "    img1a = mpimg.imread(gz2_path.replace('gzimg', 'gz2_bad_images'))\n",
    "    img1b = mpimg.imread(gz2_path)\n",
    "    img2 = mpimg.imread(decals_path)\n",
    "    plot_trio(img1a, img1b, img2, dr7objid, iauname)"
   ]
  },
  {
   "cell_type": "code",
   "execution_count": null,
   "id": "3922986a",
   "metadata": {},
   "outputs": [],
   "source": []
  },
  {
   "cell_type": "code",
   "execution_count": null,
   "id": "267ef36f",
   "metadata": {},
   "outputs": [],
   "source": []
  },
  {
   "cell_type": "markdown",
   "id": "d5292405",
   "metadata": {},
   "source": [
    "Hack to recover an old galaxy and update the PDF file:"
   ]
  },
  {
   "cell_type": "code",
   "execution_count": 42,
   "id": "03133499",
   "metadata": {},
   "outputs": [
    {
     "data": {
      "text/plain": [
       "[(588848901516689605,\n",
       "  'J110001.05+010644.0',\n",
       "  '/home/colin/data/munch1tb/zoobot_data/gzimg/sdssdr7/588848901516689605.jpg',\n",
       "  '/home/colin/data/munch1tb/zoobot_data/gz_decals_dr5_png/J110/J110001.05+010644.0.png'),\n",
       " (588848901516689605,\n",
       "  'J110001.05+010644.0',\n",
       "  '/home/colin/data/munch1tb/zoobot_data/gzimg/sdsspng/588848901516689605.png',\n",
       "  '/home/colin/data/munch1tb/zoobot_data/gz_decals_dr5_png/J110/J110001.05+010644.0.png')]"
      ]
     },
     "execution_count": 42,
     "metadata": {},
     "output_type": "execute_result"
    }
   ],
   "source": [
    "fmatch =[match for match in matches if match[0] == 588848901516689605] \n",
    "fmatch"
   ]
  },
  {
   "cell_type": "code",
   "execution_count": 43,
   "id": "ac83a567",
   "metadata": {},
   "outputs": [],
   "source": [
    "for (dr7objid, iauname, gz2_path, decals_path) in fmatch:\n",
    "    img1a = mpimg.imread(gz2_path.replace('gzimg', 'gz2_bad_images'))\n",
    "    img1b = mpimg.imread(gz2_path)\n",
    "    img2 = mpimg.imread(decals_path)\n",
    "    plot_trio(img1a, img1b, img2, dr7objid, iauname)"
   ]
  },
  {
   "cell_type": "code",
   "execution_count": null,
   "id": "f22d2ad1",
   "metadata": {},
   "outputs": [],
   "source": []
  }
 ],
 "metadata": {
  "kernelspec": {
   "display_name": "Python 3 (ipykernel)",
   "language": "python",
   "name": "python3"
  },
  "language_info": {
   "codemirror_mode": {
    "name": "ipython",
    "version": 3
   },
   "file_extension": ".py",
   "mimetype": "text/x-python",
   "name": "python",
   "nbconvert_exporter": "python",
   "pygments_lexer": "ipython3",
   "version": "3.9.12"
  }
 },
 "nbformat": 4,
 "nbformat_minor": 5
}
